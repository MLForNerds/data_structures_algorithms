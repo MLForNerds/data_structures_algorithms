{
 "cells": [
  {
   "cell_type": "markdown",
   "metadata": {},
   "source": [
    "### https://algo.monster/problems/runtime_summary\n",
    "### https://www.bigocheatsheet.com"
   ]
  },
  {
   "cell_type": "markdown",
   "metadata": {},
   "source": [
    "## Theory"
   ]
  },
  {
   "cell_type": "markdown",
   "metadata": {},
   "source": [
    "#### Time Complexity\n",
    "- Amount of time an algorithm takes to run as a function of the length of the input\n",
    "- Gives upper bound\n",
    "- Worst case scenario"
   ]
  },
  {
   "cell_type": "markdown",
   "metadata": {},
   "source": [
    "#### O(1)\n",
    "* Constant time\n",
    "* Ex:\n",
    "    * Hashmap lookup\n",
    "    * Array access and update\n",
    "    * Push and pop in stack\n",
    "    * Math formulas"
   ]
  },
  {
   "cell_type": "markdown",
   "metadata": {},
   "source": [
    "#### O(log(N))\n",
    "* Grows very slowly\n",
    "* log(1,000,000) = 20\n",
    "* Ex:\n",
    "    * Binary search or variant\n",
    "    * Balanced binary search tree lookup\n",
    "    * Processing digits of a number"
   ]
  },
  {
   "cell_type": "code",
   "execution_count": 1,
   "metadata": {},
   "outputs": [],
   "source": [
    "N = 100000000\n",
    "while N > 0:\n",
    "    # some constant operation\n",
    "    N //= 2\n",
    "# N gets halved log2(N) times"
   ]
  },
  {
   "cell_type": "markdown",
   "metadata": {},
   "source": [
    "#### O(N)\n",
    "* Linear time\n",
    "* Looping through a linear data structure \n",
    "* Ex:\n",
    "    * Looping through array/linkedlist\n",
    "    * Two pointers\n",
    "    * Some types of greedy\n",
    "    * Tree/graph traversal\n",
    "    * Stack/Queue"
   ]
  },
  {
   "cell_type": "code",
   "execution_count": 3,
   "metadata": {},
   "outputs": [],
   "source": [
    "for i in range(1, N + 1):\n",
    "  # constant time code\n",
    "  pass\n",
    "\n",
    "i = 0\n",
    "while i < N:\n",
    "  # constant time code\n",
    "  i += 1\n",
    "\n",
    "for i in range(1, 5 * N + 17):\n",
    "  # constant time code \n",
    "  pass\n",
    "\n",
    "for i in range(1, N + 538238):\n",
    "  # constant time code\n",
    "  pass"
   ]
  },
  {
   "cell_type": "markdown",
   "metadata": {},
   "source": [
    "#### O(K log(N))\n",
    "* K << N\n",
    "* Typically for “top K elements” type problems\n",
    "* Ex:\n",
    "    * Heap push/pop k times\n",
    "    * K closest points\n",
    "    * Merge k sorted lists\n",
    "    * Binary search K times\n"
   ]
  },
  {
   "cell_type": "markdown",
   "metadata": {},
   "source": [
    "#### O(N log(N))\n",
    "* Sorting\n",
    "* Ex:\n",
    "    * Divide and Conquer with linear time merge operation\n",
    "    * Smaller numbers to the right"
   ]
  },
  {
   "cell_type": "code",
   "execution_count": 1,
   "metadata": {},
   "outputs": [],
   "source": [
    "ar = [7,4,3,9,7,3,6,9,7,9,0,0,3,4,6,3,9,5,9,0,6]\n",
    "ar.sort() # nlogn"
   ]
  },
  {
   "cell_type": "markdown",
   "metadata": {},
   "source": [
    "#### O(N^2)\n",
    "* Quadratic time\n",
    "* Not bad for N<1000 for modern computers\n",
    "* Ex:\n",
    "    * Nested loops\n",
    "    * Many brute force solutions"
   ]
  },
  {
   "cell_type": "code",
   "execution_count": 3,
   "metadata": {},
   "outputs": [],
   "source": [
    "N = 100\n",
    "for i in range(1, N + 1):\n",
    "  for j in range(1, N + 1):\n",
    "    # constant time code\n",
    "    pass"
   ]
  },
  {
   "cell_type": "markdown",
   "metadata": {},
   "source": [
    "* In the below example, the outer loop runs O(N) iterations, and the inner loop runs anywhere between 1 and N iterations. Since Big O notation calculates worst-case time complexity, we treat the inner loop as a factor of N. Thus, this code is O(N^2)."
   ]
  },
  {
   "cell_type": "code",
   "execution_count": 4,
   "metadata": {},
   "outputs": [],
   "source": [
    "for a in range(1, N + 1):\n",
    "  for j in range(a, N + 1):\n",
    "    # constant time code\n",
    "    pass"
   ]
  },
  {
   "cell_type": "markdown",
   "metadata": {},
   "source": [
    "#### O(2^N)\n",
    "* Grows very rapidly\n",
    "* Often involves recursion and harder to analyse time complexity at first sight\n",
    "* Often requires memoization to avoid repeated computations\n",
    "* Ex:\n",
    "    * Combinatorial problems\n",
    "    * Backtracking"
   ]
  },
  {
   "cell_type": "code",
   "execution_count": 5,
   "metadata": {},
   "outputs": [],
   "source": [
    "def Fib(n):\n",
    "  if n == 0 or n == 1:\n",
    "    return 1\n",
    "  return Fib(n - 1) + Fib(n - 2)"
   ]
  },
  {
   "cell_type": "markdown",
   "metadata": {},
   "source": [
    "#### O(N!)\n",
    "* Grows insanely rapidly\n",
    "* Only solvable for small N, N<= 12\n",
    "* Often involves recursion and harder to analyse time complexity at first sight\n",
    "* Often requires memoization to avoid repeated computations\n",
    "* Ex:\n",
    "    * Combinatorial problems\n",
    "    * Backtracking"
   ]
  },
  {
   "cell_type": "markdown",
   "metadata": {},
   "source": [
    "#### Amortised time complexity\n",
    "* Average time taken per operation \n",
    "* Doing a very costly task once in a while \n",
    "* Costly task is done so rarely that it dilutes away\n",
    "* Ex:\n",
    "    * We had N O(1) tasks and 1 O(N) task - Time complexity = O(N) instead of O(N^2)"
   ]
  },
  {
   "cell_type": "markdown",
   "metadata": {},
   "source": [
    "## Practice"
   ]
  },
  {
   "cell_type": "markdown",
   "metadata": {},
   "source": [
    "#### What is the asymptotic time bound of functions with these time complexities?\n",
    "* 3N + 2N + N        ***- O(N)***\n",
    "* 2N^3 + 5N^2       ***- O(N^3)***\n",
    "* N + log(N)      ***- O(N)***\n",
    "* N^2log(N)       ***- O(N^2)***\n",
    "* 2^N + N^2       ***- O(2^N)***\n",
    "* 10          ***- O(1)***"
   ]
  },
  {
   "cell_type": "markdown",
   "metadata": {},
   "source": [
    "#### What is the time complexity of this code?"
   ]
  },
  {
   "cell_type": "code",
   "execution_count": null,
   "metadata": {},
   "outputs": [],
   "source": [
    "N = int(input())      # O(1)\n",
    "ar = [0] * N      # O(1)\n",
    "for i in range(N):    # O(N)\n",
    "  ar[i] = int(input())   # O(1)\n",
    "max_val = ar[0]     # O(1)\n",
    "for i in range(1, N):   # O(N)\n",
    "  max_val = max(max_val, ar[i])   # O(1)\n",
    "print(max_val)   # O(1)\n",
    "\n",
    "# O(N) + O(1) + O(1) + O(1) + O(N) + O(1) + O(1) = O(N)"
   ]
  },
  {
   "cell_type": "markdown",
   "metadata": {},
   "source": [
    "#### What is the time complexity of this code?"
   ]
  },
  {
   "cell_type": "code",
   "execution_count": null,
   "metadata": {},
   "outputs": [],
   "source": [
    "N = int(input())   # O(1)\n",
    "ar = [[0] * N for _ in range(N)]   # O(N)\n",
    "for i in range(N):    # O(N)\n",
    "  for j in range(N):    # O(N)\n",
    "    ar[i][j] = int(input())    # O(1)\n",
    "\n",
    "for i in range(N):    # O(N)\n",
    "  ar[i].sort()    # O(NlogN)\n",
    "\n",
    "# O(1) + O(N) + (O(N) * O(N)) + O(1) + (O(N) * O(NlogN)) = O(N^2logN)\n"
   ]
  },
  {
   "cell_type": "markdown",
   "metadata": {},
   "source": [
    "#### What is the time complexity of this code?"
   ]
  },
  {
   "cell_type": "code",
   "execution_count": null,
   "metadata": {},
   "outputs": [],
   "source": [
    "# assume an O(1) swap(a, b) function that swaps the values a and b\n",
    "N = int(input())     # O(1)\n",
    "ar = [[0] * N] * N    # O(1)\n",
    "for i in range(N):    # O(N)\n",
    "  for j in range(N/2):   # O(N/2)\n",
    "    swap(ar[i][j], ar[i][N - j])   # O(1)\n",
    "\n",
    "# O(1) + O(1) + O(N) * O(N/2) * O(1) = O(N^2)"
   ]
  },
  {
   "cell_type": "markdown",
   "metadata": {},
   "source": [
    "#### What is the time complexity of this code?"
   ]
  },
  {
   "cell_type": "code",
   "execution_count": null,
   "metadata": {},
   "outputs": [],
   "source": [
    "# assume the log2(N) function takes O(1) time\n",
    "# assume string concatenation takes O(1) time\n",
    "\n",
    "def func(str, idx, len):    # O(2^N)\n",
    "  if idx == len:    # O(1)\n",
    "    print(str)      # O(1)\n",
    "  else:      # O(1)\n",
    "    func(str + \"a\", idx + 1, len)    # O(2^N)\n",
    "    func(str + \"b\", idx + 1, len)    # O(2^N)\n",
    "...\n",
    "N = int(input())     # O(1)\n",
    "func(\"\", 0, int(log2(N)))     # O(2^N)\n",
    "\n",
    "# O(1) + O(2^N) + O(1) + O(1) + O(2^N) + O(2^N) = O(2^N)\n",
    "# assume N is log2(N) in the above case\n",
    "# O(2^log2(N)) = O(N)\n",
    "# Total time complexity = O(N log2(N))"
   ]
  },
  {
   "cell_type": "markdown",
   "metadata": {},
   "source": [
    "#### What is the time complexity of this code?"
   ]
  },
  {
   "cell_type": "code",
   "execution_count": null,
   "metadata": {},
   "outputs": [],
   "source": [
    "N = int(input())    # O(1)\n",
    "bin = []      # O(1)\n",
    "while N != 0:     # O(logN)\n",
    "  bin.append(N)    # O(1)\n",
    "  N //= 2     # O(1)\n",
    "\n",
    "# O(1) + O(1) + O(logN) * O(1) + O(1) = O(logN)"
   ]
  },
  {
   "cell_type": "markdown",
   "metadata": {},
   "source": []
  }
 ],
 "metadata": {
  "kernelspec": {
   "display_name": "Python 3",
   "language": "python",
   "name": "python3"
  },
  "language_info": {
   "codemirror_mode": {
    "name": "ipython",
    "version": 3
   },
   "file_extension": ".py",
   "mimetype": "text/x-python",
   "name": "python",
   "nbconvert_exporter": "python",
   "pygments_lexer": "ipython3",
   "version": "3.11.6"
  }
 },
 "nbformat": 4,
 "nbformat_minor": 2
}
