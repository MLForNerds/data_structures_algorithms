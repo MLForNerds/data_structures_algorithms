{
 "cells": [
  {
   "cell_type": "markdown",
   "metadata": {},
   "source": [
    "### https://algo.monster/problems/queue_intro"
   ]
  },
  {
   "cell_type": "markdown",
   "metadata": {},
   "source": [
    "## Theory"
   ]
  },
  {
   "cell_type": "markdown",
   "metadata": {},
   "source": [
    "#### Intro\n",
    "* First in - First out (FIFO) property\n",
    "* Ex: lines/queues at stores/theatres etc\n",
    "* Supported operations:\n",
    "    * Insert/Push - putting an item into queue\n",
    "    * Remove/Pop - Remove the first item from the queue\n",
    "    * Peek - Look at the first item of the queue"
   ]
  },
  {
   "cell_type": "markdown",
   "metadata": {},
   "source": [
    "#### Deques\n",
    "* Double-Ended Queue\n",
    "* Push and Pop from both ends\n",
    "* Ex: Bookshelf - Add/Remove books from both sides\n",
    "* Supported operations:\n",
    "    * Push Front\n",
    "    * Push Back\n",
    "    * Pop Front\n",
    "    * Pop Back\n",
    "    * Peek Front\n",
    "    * Peek Back"
   ]
  },
  {
   "cell_type": "code",
   "execution_count": null,
   "metadata": {},
   "outputs": [],
   "source": []
  }
 ],
 "metadata": {
  "language_info": {
   "name": "python"
  }
 },
 "nbformat": 4,
 "nbformat_minor": 2
}
