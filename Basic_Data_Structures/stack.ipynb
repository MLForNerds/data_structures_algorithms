{
 "cells": [
  {
   "cell_type": "markdown",
   "metadata": {},
   "source": [
    "### https://algo.monster/problems/stack_intro"
   ]
  },
  {
   "cell_type": "markdown",
   "metadata": {},
   "source": [
    "## Theory"
   ]
  },
  {
   "cell_type": "markdown",
   "metadata": {},
   "source": [
    "#### Intro\n",
    "* first in, last out\" (FILO) property\n",
    "* Supported operations:\n",
    "    * ***Insert or Push*** - Putting an item into the stack\n",
    "    * ***Peek*** - look at the top item in the stack\n",
    "    * ***Remove or Pop*** - Remove the top item of the stack\n",
    "\n",
    "#### Implementation\n",
    "* Array with a pointer pointing to the top of the stack\n",
    "* Insert - set value at the pointer to the item and increment the pointer by 1\n",
    "* Remove - Decrease the pointer by 1\n",
    "\n",
    "#### Overflow and Underflow\n",
    "* Underflow - removing an element from an empty stack\n",
    "* Overflow - insert an item into the stack while it’s full\n",
    "* Usually a dynamic sized arrays are used as stacks\n",
    "* Ex: Python List"
   ]
  },
  {
   "cell_type": "markdown",
   "metadata": {},
   "source": [
    "## Implementation"
   ]
  },
  {
   "cell_type": "code",
   "execution_count": 1,
   "metadata": {},
   "outputs": [
    {
     "name": "stdout",
     "output_type": "stream",
     "text": [
      "2\n",
      "1\n",
      "empty\n"
     ]
    }
   ],
   "source": [
    "from typing import List\n",
    "\n",
    "def stack_(instructions: List[str]) -> List[int]:\n",
    "    stack = []\n",
    "    for instruction in instructions:\n",
    "        if instruction == \"peek\":\n",
    "            if len(stack) == 0:\n",
    "                print(\"empty\")\n",
    "            else:\n",
    "                print(stack[-1])\n",
    "        elif instruction == \"pop\":\n",
    "            if len(stack) == 0:\n",
    "                print(\"empty\")\n",
    "            else:\n",
    "                stack.pop()\n",
    "        else:\n",
    "            stack.append(int(instruction.split()[1]))\n",
    "    return stack\n",
    "\n",
    "def main() -> None:\n",
    "    instructions = [\"push 1\", \"push 2\", \"peek\", \"pop\", \"peek\", \"pop\", \"peek\"]\n",
    "    stack_(instructions)\n",
    "\n",
    "if __name__ == \"__main__\":\n",
    "    main()"
   ]
  },
  {
   "cell_type": "code",
   "execution_count": null,
   "metadata": {},
   "outputs": [],
   "source": []
  }
 ],
 "metadata": {
  "kernelspec": {
   "display_name": "Python 3",
   "language": "python",
   "name": "python3"
  },
  "language_info": {
   "codemirror_mode": {
    "name": "ipython",
    "version": 3
   },
   "file_extension": ".py",
   "mimetype": "text/x-python",
   "name": "python",
   "nbconvert_exporter": "python",
   "pygments_lexer": "ipython3",
   "version": "3.11.6"
  }
 },
 "nbformat": 4,
 "nbformat_minor": 2
}
